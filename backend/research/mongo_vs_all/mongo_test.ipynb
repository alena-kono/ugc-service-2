{
 "cells": [
  {
   "cell_type": "markdown",
   "metadata": {},
   "source": [
    "# Mongo vs ClickHouse "
   ]
  },
  {
   "cell_type": "code",
   "execution_count": 9,
   "metadata": {},
   "outputs": [],
   "source": [
    "import random as rd\n",
    "\n",
    "test_comment = \" \".join([rd.choice([\"lorem\", \"ipsum\", \"dolor\", \"sit\", \"amet\", \"consectetur\", \"adipiscing\", \"elit\", \"sed\", \"do\", \"eiusmod\", \"tempor\", \"incididunt\", \"ut\", \"labore\", \"et\", \"dolore\", \"magna\", \"aliqua\"]) for _ in range(50)])\n",
    "test_comment = test_comment.capitalize() + \".\"\n",
    "test_comment = test_comment * 6\n",
    "test_comment = test_comment[:300]\n"
   ]
  },
  {
   "cell_type": "code",
   "execution_count": 10,
   "metadata": {},
   "outputs": [],
   "source": [
    "from datetime import datetime\n",
    "from uuid import uuid4\n",
    "\n",
    "def generate_review_batch()->list[dict]:\n",
    "    for i in range(10_000):\n",
    "        print(f\"{i} / 10_000\")\n",
    "        batch = [\n",
    "            {\n",
    "                \"user_id\": str(uuid4()),\n",
    "                \"film_id\": str(uuid4()),\n",
    "                \"comment\": test_comment,\n",
    "                \"timestamp\": datetime.now(),\n",
    "            }\n",
    "            for _ in range(1000)\n",
    "        ]\n",
    "        yield batch"
   ]
  },
  {
   "cell_type": "markdown",
   "metadata": {},
   "source": [
    "## Mongo"
   ]
  },
  {
   "cell_type": "code",
   "execution_count": null,
   "metadata": {},
   "outputs": [],
   "source": [
    "from pymongo import MongoClient"
   ]
  },
  {
   "cell_type": "code",
   "execution_count": null,
   "metadata": {},
   "outputs": [],
   "source": [
    "client = MongoClient('localhost', 27019)\n",
    "db = client['test_database']\n",
    "collection = db['test_collection']"
   ]
  },
  {
   "cell_type": "code",
   "execution_count": null,
   "metadata": {},
   "outputs": [],
   "source": [
    "import time\n",
    "\n",
    "start = time.time()\n",
    "counter = 0\n",
    "for batch in generate_review_batch():\n",
    "    collection.insert_many(batch) \n",
    "    counter += 1\n",
    "end = time.time()\n",
    "\n",
    "print(f\"Batch {counter} inserted\")\n",
    "print(f\"Insertion took {end - start:.4f} seconds\")\n",
    "print(f\"average insertion time: {(end - start) / counter:.4f} seconds\")"
   ]
  },
  {
   "cell_type": "code",
   "execution_count": 49,
   "metadata": {},
   "outputs": [
    {
     "name": "stdout",
     "output_type": "stream",
     "text": [
      "Average select time: 0.03981100379099371 sec\n"
     ]
    }
   ],
   "source": [
    "import timeit\n",
    "\n",
    "def read_test():\n",
    "    cursor  = collection.find().batch_size(1000).limit(1000)\n",
    "    _ = list(cursor)\n",
    "\n",
    "print(f\"Average select time: {timeit.timeit(read_test, number=1000) / 1000} sec\")"
   ]
  },
  {
   "cell_type": "markdown",
   "metadata": {},
   "source": [
    "### Insert batch test:\n",
    "* Batch size = 1000.  10000 batches had been inserted\n",
    "* Insertion took 181.6199 seconds\n",
    "* average insertion time: 0.0182 seconds\n",
    "\n",
    "### Read batch test\n",
    "* Batch size = 1000.\n",
    "* Reads Number = 1000 times \n",
    "* Average select time: 0.005184496374975424 sec"
   ]
  },
  {
   "cell_type": "markdown",
   "metadata": {},
   "source": [
    "## ClickHouse"
   ]
  },
  {
   "cell_type": "code",
   "execution_count": 4,
   "metadata": {},
   "outputs": [],
   "source": [
    "from clickhouse_driver import Client"
   ]
  },
  {
   "cell_type": "code",
   "execution_count": 5,
   "metadata": {},
   "outputs": [],
   "source": [
    "client = Client(host=\"localhost\")"
   ]
  },
  {
   "cell_type": "code",
   "execution_count": 6,
   "metadata": {},
   "outputs": [
    {
     "data": {
      "text/plain": [
       "[('clickhouse-node1', 9000, 0, '', 3, 0),\n",
       " ('clickhouse-node3', 9000, 0, '', 2, 0),\n",
       " ('clickhouse-node2', 9000, 0, '', 1, 0),\n",
       " ('clickhouse-node4', 9000, 0, '', 0, 0)]"
      ]
     },
     "execution_count": 6,
     "metadata": {},
     "output_type": "execute_result"
    }
   ],
   "source": [
    "client.execute('CREATE DATABASE IF NOT EXISTS collection ON CLUSTER company_cluster;')"
   ]
  },
  {
   "cell_type": "code",
   "execution_count": 7,
   "metadata": {},
   "outputs": [
    {
     "data": {
      "text/plain": [
       "[('clickhouse-node1', 9000, 0, '', 3, 0),\n",
       " ('clickhouse-node3', 9000, 0, '', 2, 0),\n",
       " ('clickhouse-node4', 9000, 0, '', 1, 0),\n",
       " ('clickhouse-node2', 9000, 0, '', 0, 0)]"
      ]
     },
     "execution_count": 7,
     "metadata": {},
     "output_type": "execute_result"
    }
   ],
   "source": [
    "client.execute(\n",
    "\"\"\"CREATE TABLE IF NOT EXISTS collection.test_collection ON CLUSTER company_cluster (\n",
    "    user_id UUID,\n",
    "    film_id UUID,\n",
    "    comment TEXT,\n",
    "    timestamp TIMESTAMP\n",
    ")\n",
    "Engine=MergeTree()\n",
    "ORDER BY (user_id, film_id, timestamp);\"\"\")"
   ]
  },
  {
   "cell_type": "code",
   "execution_count": 11,
   "metadata": {},
   "outputs": [
    {
     "name": "stdout",
     "output_type": "stream",
     "text": [
      "0 / 10_000\n"
     ]
    },
    {
     "ename": "ServerException",
     "evalue": "Code: 81.\nDB::Exception: Database ugc_analytics doesn't exist. Stack trace:\n\n0. DB::Exception::Exception(std::__1::basic_string<char, std::__1::char_traits<char>, std::__1::allocator<char> > const&, int, bool) @ 0xa82d07a in /usr/bin/clickhouse\n1. DB::DatabaseCatalog::assertDatabaseExistsUnlocked(std::__1::basic_string<char, std::__1::char_traits<char>, std::__1::allocator<char> > const&) const @ 0x13519e5a in /usr/bin/clickhouse\n2. DB::DatabaseCatalog::getDatabase(std::__1::basic_string<char, std::__1::char_traits<char>, std::__1::allocator<char> > const&) const @ 0x1351c8f8 in /usr/bin/clickhouse\n3. DB::Context::resolveStorageID(DB::StorageID, DB::Context::StorageNamespace) const @ 0x134b755e in /usr/bin/clickhouse\n4. ? @ 0x13d1351f in /usr/bin/clickhouse\n5. DB::executeQuery(std::__1::basic_string<char, std::__1::char_traits<char>, std::__1::allocator<char> > const&, std::__1::shared_ptr<DB::Context>, bool, DB::QueryProcessingStage::Enum) @ 0x13d11e55 in /usr/bin/clickhouse\n6. DB::TCPHandler::runImpl() @ 0x147f050f in /usr/bin/clickhouse\n7. DB::TCPHandler::run() @ 0x14804259 in /usr/bin/clickhouse\n8. Poco::Net::TCPServerConnection::start() @ 0x1745e52f in /usr/bin/clickhouse\n9. Poco::Net::TCPServerDispatcher::run() @ 0x17460981 in /usr/bin/clickhouse\n10. Poco::PooledThread::run() @ 0x17611609 in /usr/bin/clickhouse\n11. Poco::ThreadImpl::runnableEntry(void*) @ 0x1760ed00 in /usr/bin/clickhouse\n12. ? @ 0x400086d609 in ?\n13. clone @ 0x40009a9293 in ?\n",
     "output_type": "error",
     "traceback": [
      "\u001b[0;31m---------------------------------------------------------------------------\u001b[0m",
      "\u001b[0;31mServerException\u001b[0m                           Traceback (most recent call last)",
      "\u001b[1;32m/Users/nikitazigman/code/yandex_practicum/ugc-service-2/backend/research/mongo_vs_all/mongo_test.ipynb Cell 15\u001b[0m line \u001b[0;36m6\n\u001b[1;32m      <a href='vscode-notebook-cell:/Users/nikitazigman/code/yandex_practicum/ugc-service-2/backend/research/mongo_vs_all/mongo_test.ipynb#X33sZmlsZQ%3D%3D?line=3'>4</a>\u001b[0m counter \u001b[39m=\u001b[39m \u001b[39m0\u001b[39m\n\u001b[1;32m      <a href='vscode-notebook-cell:/Users/nikitazigman/code/yandex_practicum/ugc-service-2/backend/research/mongo_vs_all/mongo_test.ipynb#X33sZmlsZQ%3D%3D?line=4'>5</a>\u001b[0m \u001b[39mfor\u001b[39;00m batch \u001b[39min\u001b[39;00m generate_review_batch():\n\u001b[0;32m----> <a href='vscode-notebook-cell:/Users/nikitazigman/code/yandex_practicum/ugc-service-2/backend/research/mongo_vs_all/mongo_test.ipynb#X33sZmlsZQ%3D%3D?line=5'>6</a>\u001b[0m     client\u001b[39m.\u001b[39;49mexecute(\u001b[39m\"\u001b[39;49m\u001b[39mINSERT INTO ugc_analytics.ugc_film_views (user_id, film_id, comment, timestamp) VALUES\u001b[39;49m\u001b[39m\"\u001b[39;49m, batch)\n\u001b[1;32m      <a href='vscode-notebook-cell:/Users/nikitazigman/code/yandex_practicum/ugc-service-2/backend/research/mongo_vs_all/mongo_test.ipynb#X33sZmlsZQ%3D%3D?line=6'>7</a>\u001b[0m     counter \u001b[39m+\u001b[39m\u001b[39m=\u001b[39m \u001b[39m1\u001b[39m\n\u001b[1;32m      <a href='vscode-notebook-cell:/Users/nikitazigman/code/yandex_practicum/ugc-service-2/backend/research/mongo_vs_all/mongo_test.ipynb#X33sZmlsZQ%3D%3D?line=7'>8</a>\u001b[0m end \u001b[39m=\u001b[39m time\u001b[39m.\u001b[39mtime()\n",
      "File \u001b[0;32m~/Library/Caches/pypoetry/virtualenvs/mongo-vs-all-ismdL_0K-py3.11/lib/python3.11/site-packages/clickhouse_driver/client.py:367\u001b[0m, in \u001b[0;36mClient.execute\u001b[0;34m(self, query, params, with_column_types, external_tables, query_id, settings, types_check, columnar)\u001b[0m\n\u001b[1;32m    364\u001b[0m is_insert \u001b[39m=\u001b[39m \u001b[39misinstance\u001b[39m(params, (\u001b[39mlist\u001b[39m, \u001b[39mtuple\u001b[39m, types\u001b[39m.\u001b[39mGeneratorType))\n\u001b[1;32m    366\u001b[0m \u001b[39mif\u001b[39;00m is_insert:\n\u001b[0;32m--> 367\u001b[0m     rv \u001b[39m=\u001b[39m \u001b[39mself\u001b[39;49m\u001b[39m.\u001b[39;49mprocess_insert_query(\n\u001b[1;32m    368\u001b[0m         query, params, external_tables\u001b[39m=\u001b[39;49mexternal_tables,\n\u001b[1;32m    369\u001b[0m         query_id\u001b[39m=\u001b[39;49mquery_id, types_check\u001b[39m=\u001b[39;49mtypes_check,\n\u001b[1;32m    370\u001b[0m         columnar\u001b[39m=\u001b[39;49mcolumnar\n\u001b[1;32m    371\u001b[0m     )\n\u001b[1;32m    372\u001b[0m \u001b[39melse\u001b[39;00m:\n\u001b[1;32m    373\u001b[0m     rv \u001b[39m=\u001b[39m \u001b[39mself\u001b[39m\u001b[39m.\u001b[39mprocess_ordinary_query(\n\u001b[1;32m    374\u001b[0m         query, params\u001b[39m=\u001b[39mparams, with_column_types\u001b[39m=\u001b[39mwith_column_types,\n\u001b[1;32m    375\u001b[0m         external_tables\u001b[39m=\u001b[39mexternal_tables,\n\u001b[1;32m    376\u001b[0m         query_id\u001b[39m=\u001b[39mquery_id, types_check\u001b[39m=\u001b[39mtypes_check,\n\u001b[1;32m    377\u001b[0m         columnar\u001b[39m=\u001b[39mcolumnar\n\u001b[1;32m    378\u001b[0m     )\n",
      "File \u001b[0;32m~/Library/Caches/pypoetry/virtualenvs/mongo-vs-all-ismdL_0K-py3.11/lib/python3.11/site-packages/clickhouse_driver/client.py:596\u001b[0m, in \u001b[0;36mClient.process_insert_query\u001b[0;34m(self, query_without_data, data, external_tables, query_id, types_check, columnar)\u001b[0m\n\u001b[1;32m    592\u001b[0m \u001b[39mself\u001b[39m\u001b[39m.\u001b[39mconnection\u001b[39m.\u001b[39msend_query(query_without_data, query_id\u001b[39m=\u001b[39mquery_id)\n\u001b[1;32m    593\u001b[0m \u001b[39mself\u001b[39m\u001b[39m.\u001b[39mconnection\u001b[39m.\u001b[39msend_external_tables(external_tables,\n\u001b[1;32m    594\u001b[0m                                      types_check\u001b[39m=\u001b[39mtypes_check)\n\u001b[0;32m--> 596\u001b[0m sample_block \u001b[39m=\u001b[39m \u001b[39mself\u001b[39;49m\u001b[39m.\u001b[39;49mreceive_sample_block()\n\u001b[1;32m    597\u001b[0m \u001b[39mif\u001b[39;00m sample_block:\n\u001b[1;32m    598\u001b[0m     rv \u001b[39m=\u001b[39m \u001b[39mself\u001b[39m\u001b[39m.\u001b[39msend_data(sample_block, data,\n\u001b[1;32m    599\u001b[0m                         types_check\u001b[39m=\u001b[39mtypes_check, columnar\u001b[39m=\u001b[39mcolumnar)\n",
      "File \u001b[0;32m~/Library/Caches/pypoetry/virtualenvs/mongo-vs-all-ismdL_0K-py3.11/lib/python3.11/site-packages/clickhouse_driver/client.py:611\u001b[0m, in \u001b[0;36mClient.receive_sample_block\u001b[0;34m(self)\u001b[0m\n\u001b[1;32m    608\u001b[0m     \u001b[39mreturn\u001b[39;00m packet\u001b[39m.\u001b[39mblock\n\u001b[1;32m    610\u001b[0m \u001b[39melif\u001b[39;00m packet\u001b[39m.\u001b[39mtype \u001b[39m==\u001b[39m ServerPacketTypes\u001b[39m.\u001b[39mEXCEPTION:\n\u001b[0;32m--> 611\u001b[0m     \u001b[39mraise\u001b[39;00m packet\u001b[39m.\u001b[39mexception\n\u001b[1;32m    613\u001b[0m \u001b[39melif\u001b[39;00m packet\u001b[39m.\u001b[39mtype \u001b[39m==\u001b[39m ServerPacketTypes\u001b[39m.\u001b[39mLOG:\n\u001b[1;32m    614\u001b[0m     log_block(packet\u001b[39m.\u001b[39mblock)\n",
      "\u001b[0;31mServerException\u001b[0m: Code: 81.\nDB::Exception: Database ugc_analytics doesn't exist. Stack trace:\n\n0. DB::Exception::Exception(std::__1::basic_string<char, std::__1::char_traits<char>, std::__1::allocator<char> > const&, int, bool) @ 0xa82d07a in /usr/bin/clickhouse\n1. DB::DatabaseCatalog::assertDatabaseExistsUnlocked(std::__1::basic_string<char, std::__1::char_traits<char>, std::__1::allocator<char> > const&) const @ 0x13519e5a in /usr/bin/clickhouse\n2. DB::DatabaseCatalog::getDatabase(std::__1::basic_string<char, std::__1::char_traits<char>, std::__1::allocator<char> > const&) const @ 0x1351c8f8 in /usr/bin/clickhouse\n3. DB::Context::resolveStorageID(DB::StorageID, DB::Context::StorageNamespace) const @ 0x134b755e in /usr/bin/clickhouse\n4. ? @ 0x13d1351f in /usr/bin/clickhouse\n5. DB::executeQuery(std::__1::basic_string<char, std::__1::char_traits<char>, std::__1::allocator<char> > const&, std::__1::shared_ptr<DB::Context>, bool, DB::QueryProcessingStage::Enum) @ 0x13d11e55 in /usr/bin/clickhouse\n6. DB::TCPHandler::runImpl() @ 0x147f050f in /usr/bin/clickhouse\n7. DB::TCPHandler::run() @ 0x14804259 in /usr/bin/clickhouse\n8. Poco::Net::TCPServerConnection::start() @ 0x1745e52f in /usr/bin/clickhouse\n9. Poco::Net::TCPServerDispatcher::run() @ 0x17460981 in /usr/bin/clickhouse\n10. Poco::PooledThread::run() @ 0x17611609 in /usr/bin/clickhouse\n11. Poco::ThreadImpl::runnableEntry(void*) @ 0x1760ed00 in /usr/bin/clickhouse\n12. ? @ 0x400086d609 in ?\n13. clone @ 0x40009a9293 in ?\n"
     ]
    }
   ],
   "source": [
    "import time\n",
    "\n",
    "start = time.time()\n",
    "counter = 0\n",
    "for batch in generate_review_batch():\n",
    "    client.execute(\"INSERT INTO collection.test_collection (user_id, film_id, comment, timestamp) VALUES\", batch)\n",
    "    counter += 1\n",
    "end = time.time()\n",
    "\n",
    "print(f\"Batch {counter} inserted\")\n",
    "print(f\"Insertion took {end - start:.4f} seconds\")\n",
    "print(f\"average insertion time: {(end - start) / counter:.4f} seconds\")"
   ]
  },
  {
   "cell_type": "code",
   "execution_count": null,
   "metadata": {},
   "outputs": [],
   "source": [
    "import timeit\n",
    "\n",
    "def read_test():\n",
    "    _ = client.execute(\"SELECT user_id, film_id, progress_sec FROM ugc_analytics.ugc_film_views LIMIT 1000\")\n",
    "\n",
    "print(f\"Average select time: {timeit.timeit(read_test, number=1000) / 1000} sec\")\n"
   ]
  }
 ],
 "metadata": {
  "kernelspec": {
   "display_name": "mongo-vs-all-ismdL_0K-py3.11",
   "language": "python",
   "name": "python3"
  },
  "language_info": {
   "codemirror_mode": {
    "name": "ipython",
    "version": 3
   },
   "file_extension": ".py",
   "mimetype": "text/x-python",
   "name": "python",
   "nbconvert_exporter": "python",
   "pygments_lexer": "ipython3",
   "version": "3.11.4"
  }
 },
 "nbformat": 4,
 "nbformat_minor": 2
}
