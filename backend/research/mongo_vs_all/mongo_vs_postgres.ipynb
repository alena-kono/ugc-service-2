{
 "cells": [
  {
   "cell_type": "markdown",
   "metadata": {},
   "source": [
    "# Mongo vs Postgres "
   ]
  },
  {
   "cell_type": "code",
   "execution_count": null,
   "metadata": {},
   "outputs": [],
   "source": [
    "from datetime import datetime\n",
    "from uuid import uuid4\n",
    "from random import choice\n",
    "import random as rd\n",
    "\n",
    "test_comment = \" \".join([rd.choice([\"lorem\", \"ipsum\", \"dolor\", \"sit\", \"amet\", \"consectetur\", \"adipiscing\", \"elit\", \"sed\", \"do\", \"eiusmod\", \"tempor\", \"incididunt\", \"ut\", \"labore\", \"et\", \"dolore\", \"magna\", \"aliqua\"]) for _ in range(50)])\n",
    "test_comment = test_comment.capitalize() + \".\"\n",
    "test_comment = test_comment * 6\n",
    "test_comment = test_comment[:300]\n",
    "\n",
    "users = [str(uuid4()) for _ in range(100)]\n",
    "films = [str(uuid4()) for _ in range(1000)]\n",
    "\n",
    "def generate_review()->dict:\n",
    "    for i in range(100_000):\n",
    "        i % 100 == 0 and print(f\"{i} / 100_000\")\n",
    "        yield {\n",
    "            \"user_id\": choice(users),\n",
    "            \"film_id\": choice(films),\n",
    "            \"comment\": test_comment,\n",
    "            \"timestamp\": datetime.now(),\n",
    "        }"
   ]
  },
  {
   "cell_type": "markdown",
   "metadata": {},
   "source": [
    "## Mongo"
   ]
  },
  {
   "cell_type": "code",
   "execution_count": null,
   "metadata": {},
   "outputs": [],
   "source": [
    "from pymongo import MongoClient\n",
    "import pymongo"
   ]
  },
  {
   "cell_type": "code",
   "execution_count": null,
   "metadata": {},
   "outputs": [],
   "source": [
    "client = MongoClient('localhost', 27017)\n",
    "db = client['test_database']\n",
    "collection = db['test_collection']\n",
    "collection.drop()"
   ]
  },
  {
   "cell_type": "code",
   "execution_count": null,
   "metadata": {},
   "outputs": [],
   "source": [
    "collection.create_index(\"user_id\")\n",
    "collection.create_index(\"film_id\")"
   ]
  },
  {
   "cell_type": "code",
   "execution_count": null,
   "metadata": {},
   "outputs": [],
   "source": [
    "import time\n",
    "\n",
    "start = time.time()\n",
    "counter = 0\n",
    "for row in generate_review():\n",
    "    collection.insert_one(row) \n",
    "    counter += 1\n",
    "end = time.time()\n",
    "\n",
    "print(f\"Batch {counter} inserted\")\n",
    "print(f\"Insertion took {end - start:.4f} seconds\")\n",
    "print(f\"average insertion time: {(end - start) / counter:.4f} seconds\")"
   ]
  },
  {
   "cell_type": "code",
   "execution_count": null,
   "metadata": {},
   "outputs": [],
   "source": [
    "import timeit\n",
    "\n",
    "def read_test():\n",
    "    cursor  = collection.find_one({\"user_id\": choice(users)})\n",
    "    _ = list(cursor)\n",
    "\n",
    "print(f\"Average select time: {timeit.timeit(read_test, number=100_000) / 100_000} sec\")"
   ]
  },
  {
   "cell_type": "code",
   "execution_count": null,
   "metadata": {},
   "outputs": [],
   "source": [
    "import timeit\n",
    "\n",
    "def update_test():\n",
    "    cursor  = collection.update_one({\"user_id\": choice(users)}, {\"$set\": {\"comment\": \"test_comment\"}})\n",
    "    _ = list(cursor)\n",
    "\n",
    "print(f\"Average update time: {timeit.timeit(read_test, number=10_000) / 10_000} sec\")"
   ]
  },
  {
   "cell_type": "markdown",
   "metadata": {},
   "source": [
    "### Insert batch test:\n",
    "* 100_000 docs inserted\n",
    "* Insertion took 37.5226 seconds\n",
    "* average insertion time: 0.0004 seconds\n",
    "\n",
    "### Read batch test\n",
    "* Reads Number = 100_000 times \n",
    "* Average select time: 0.00039721483082976193 sec\n",
    "\n",
    "## Update test\n",
    "* Update Number = 10_000 times \n",
    "* Average update time: 0.0003978825124911964 sec"
   ]
  },
  {
   "cell_type": "markdown",
   "metadata": {},
   "source": [
    "## Postgres"
   ]
  },
  {
   "cell_type": "code",
   "execution_count": null,
   "metadata": {},
   "outputs": [],
   "source": [
    "import psycopg2"
   ]
  },
  {
   "cell_type": "code",
   "execution_count": null,
   "metadata": {},
   "outputs": [],
   "source": [
    "connection = psycopg2.connect(dsn=\"dbname=postgres_db user=postgres password=postgres host=localhost port=5432\")\n",
    "cursor = connection.cursor()"
   ]
  },
  {
   "cell_type": "code",
   "execution_count": null,
   "metadata": {},
   "outputs": [],
   "source": [
    "cursor.execute('CREATE EXTENSION IF NOT EXISTS \"uuid-ossp\";')\n",
    "connection.commit()\n"
   ]
  },
  {
   "cell_type": "code",
   "execution_count": null,
   "metadata": {},
   "outputs": [],
   "source": [
    "cursor.execute(\"DROP TABLE IF EXISTS collection\")\n",
    "connection.commit()\n"
   ]
  },
  {
   "cell_type": "code",
   "execution_count": null,
   "metadata": {},
   "outputs": [],
   "source": [
    "cursor.execute(\n",
    "\"\"\"\n",
    "    CREATE TABLE IF NOT EXISTS collection(\n",
    "        id UUID PRIMARY KEY DEFAULT uuid_generate_v4(),\n",
    "        user_id UUID,\n",
    "        film_id UUID,\n",
    "        comment TEXT,\n",
    "        timestamp TIMESTAMP\n",
    "    );\n",
    "\"\"\"\n",
    ")\n",
    "connection.commit()"
   ]
  },
  {
   "cell_type": "code",
   "execution_count": null,
   "metadata": {},
   "outputs": [],
   "source": [
    "import time\n",
    "\n",
    "start = time.time()\n",
    "counter = 0\n",
    "for row in generate_review():\n",
    "    cursor.execute(\"INSERT INTO collection (user_id, film_id, comment, timestamp) VALUES(%(user_id)s,%(film_id)s,%(comment)s,%(timestamp)s)\", row)\n",
    "    counter += 1\n",
    "end = time.time()\n",
    "\n",
    "print(f\"Batch {counter} inserted\")\n",
    "print(f\"Insertion took {end - start:.4f} seconds\")\n",
    "print(f\"average insertion time: {(end - start) / counter:.4f} seconds\")"
   ]
  },
  {
   "cell_type": "code",
   "execution_count": 34,
   "metadata": {},
   "outputs": [
    {
     "name": "stdout",
     "output_type": "stream",
     "text": [
      "Average select time: 0.011274614583002404 sec\n"
     ]
    }
   ],
   "source": [
    "import timeit\n",
    "\n",
    "def read_test():\n",
    "    cursor.execute(\"SELECT * FROM collection WHERE user_id = %(user_id)s;\", {\"user_id\": choice(users)})\n",
    "    cursor.fetchone()\n",
    "\n",
    "print(f\"Average select time: {timeit.timeit(read_test, number=1000) / 1000} sec\")\n"
   ]
  },
  {
   "cell_type": "code",
   "execution_count": 35,
   "metadata": {},
   "outputs": [
    {
     "name": "stdout",
     "output_type": "stream",
     "text": [
      "Average update time: 0.0204745907089673 sec\n"
     ]
    }
   ],
   "source": [
    "sql_pipeline = \"\"\"SELECT user_id, COUNT(*) as count FROM collection.test_collection GROUP BY user_id ORDER BY count DESC LIMIT 10 \"\"\"\n",
    "def update_test():\n",
    "    cursor.execute(\"UPDATE collection SET comment = %(comment)s WHERE user_id = %(user_id)s;\", {\"user_id\": choice(users), \"comment\": \"test_comment\"})\n",
    "\n",
    "print(f\"Average update time: {timeit.timeit(update_test, number=1000) / 1000} sec\")"
   ]
  },
  {
   "cell_type": "markdown",
   "metadata": {},
   "source": [
    "### Insert batch test:\n",
    "* 100_000 inserted rows\n",
    "* Insertion took 30.5753 seconds\n",
    "* average insertion time: 0.0003 seconds\n",
    "\n",
    "### Read batch test\n",
    "* Reads Number = 1000 times \n",
    "* Average select time: 0.011274614583002404 sec\n",
    "\n",
    "## Update test\n",
    "* Update Number = 1000 times \n",
    "* Average update time: 0.0204745907089673 sec"
   ]
  }
 ],
 "metadata": {
  "kernelspec": {
   "display_name": "mongo-vs-all-ismdL_0K-py3.11",
   "language": "python",
   "name": "python3"
  },
  "language_info": {
   "codemirror_mode": {
    "name": "ipython",
    "version": 3
   },
   "file_extension": ".py",
   "mimetype": "text/x-python",
   "name": "python",
   "nbconvert_exporter": "python",
   "pygments_lexer": "ipython3",
   "version": "3.11.4"
  }
 },
 "nbformat": 4,
 "nbformat_minor": 2
}
